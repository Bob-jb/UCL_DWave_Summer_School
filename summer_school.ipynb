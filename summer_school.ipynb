{
  "nbformat": 4,
  "nbformat_minor": 0,
  "metadata": {
    "colab": {
      "name": "summer_school.ipynb",
      "provenance": [],
      "collapsed_sections": []
    },
    "kernelspec": {
      "name": "python3",
      "display_name": "Python 3"
    }
  },
  "cells": [
    {
      "cell_type": "markdown",
      "metadata": {
        "id": "S0nH3oMOraAr",
        "colab_type": "text"
      },
      "source": [
        "# **Error Correction using Quantum Annealing**\n",
        "\n",
        "Using the D-Wave 2000Q on the Leap service, you will explore the experimental usage of quantum annealing to error correct ASCII messages that are sent over a noisy channel.\n"
      ]
    },
    {
      "cell_type": "markdown",
      "metadata": {
        "id": "oc0vAYCAsPDs",
        "colab_type": "text"
      },
      "source": [
        "## Create your environment"
      ]
    },
    {
      "cell_type": "code",
      "metadata": {
        "id": "3wC041slW_fb",
        "colab_type": "code",
        "colab": {}
      },
      "source": [
        "from dwave.system.samplers import DWaveSampler\n",
        "from dwave.system.composites import EmbeddingComposite\n",
        "import networkx as nx\n",
        "import dwave_networkx as dnx\n",
        "import numpy as np"
      ],
      "execution_count": null,
      "outputs": []
    },
    {
      "cell_type": "markdown",
      "metadata": {
        "id": "ZAY7zCyLsZf0",
        "colab_type": "text"
      },
      "source": [
        "## Initilize Sampler"
      ]
    },
    {
      "cell_type": "code",
      "metadata": {
        "id": "Q7por0q3XAZ1",
        "colab_type": "code",
        "colab": {}
      },
      "source": [
        "# Set up our connection to the D-Wave Computer\n",
        "solver = EmbeddingComposite(DWaveSampler())\n",
        "print(\"\\nConnected to\", solver.properties['child_properties']['chip_id'])\n",
        "\n",
        "# Find good cell indices, i.e. cells without missing qubits/couplers, in the online D-Wave chip\n",
        "G = nx.Graph()\n",
        "G.add_edges_from(DWaveSampler().edgelist)\n",
        "goodcellindices = []\n",
        "for q in range(0, 2048, 8):\n",
        "    if all((i, j) in G.edges for i in range(q, q+4) for j in range(q+4, q+8)):\n",
        "        goodcellindices.append(q)\n",
        "print(\"\\nNumber of complete unit cells on chip:\", len(goodcellindices))"
      ],
      "execution_count": null,
      "outputs": []
    },
    {
      "cell_type": "markdown",
      "metadata": {
        "id": "tOS_YqR8tUu_",
        "colab_type": "text"
      },
      "source": [
        "## Define the Problem"
      ]
    },
    {
      "cell_type": "code",
      "metadata": {
        "id": "J-kSbveUssFI",
        "colab_type": "code",
        "colab": {}
      },
      "source": [
        "fullword = 'Hydroelectricity accentuates conceivable possibilities expeditiously, whereas circumlocutions fail'\n",
        "\n",
        "#number of characters in word to be transmitted\n",
        "wordlength = min(100, len(fullword))   \n",
        "bitsperchar = 8\n",
        "# there are eight qubits in each unit cell; each qubit maps each bit of the ASCII code\n",
        "numbits = wordlength*bitsperchar \n",
        "\n",
        "wordstring = fullword[0:wordlength]\n",
        "print(\"\\nOriginal string:\", wordstring)\n",
        "\n",
        "# this is a measure of how noisy the channel is: it is the probability that any bit transmitted on the channel gets flipped during transmission\n",
        "crossoverprob = 0.02  \n",
        "# print(\"\\nCrossover Probability:\", crossoverprob)\n",
        "\n",
        "# get the connectivity map which defines which qubits are coupled to which other qubits\n",
        "connectivity = np.triu(nx.to_numpy_matrix(dnx.chimera_graph(1,1,4)))\n",
        "\n",
        "# convert the word to be transmitted into a binary string:    \n",
        "bitsarray= np.array([[ord(i)] for i in wordstring],  dtype=np.uint8)\n",
        "bitsword = np.unpackbits(bitsarray, axis=1).reshape((1,-1))\n",
        "print(\"\\nOriginal string in binary:\\n\", bitsword)\n",
        "# bitsword now contains an array of zeros and ones encoding the error-free word to be transmitted\n",
        "\n",
        "# now flip some fraction of the information bits, corresponding to the received set of corrupted data bits\n",
        "randomarray1D = np.random.rand(numbits)\n",
        "flippedbitindex = np.array(randomarray1D<crossoverprob).astype(int)\n",
        "\n",
        "rxbits = np.bitwise_xor(bitsword, flippedbitindex)\n",
        "print(\"\\nCorrupted string:\\n\", rxbits)\n",
        "# rxbits now contains the received set of corrupted data bits in {0,1}\n",
        "\n",
        "# now we need to make a 2-D array whose elements correspond to the couplers between each qubit; the value of the coupler is set so that the qubits are in their ground state\n",
        "rowbits = np.repeat(bitsword[0].reshape(1,-1), numbits, axis=0)\n",
        "columnbits = np.repeat(bitsword[0].reshape(-1,1), numbits, axis=1)\n",
        "\n",
        "jtxbits = (~(np.bitwise_xor(rowbits,columnbits).astype(bool))).astype(int)\n",
        "# this is the transmitted error-free set of couplers with 1 being ferromagnetic and 0 being antiferromagnetic.\n",
        "# note that it is upper triangular; note that couplers which don't exist are assigned zero. \n",
        "\n",
        "# now flip some fraction of the couplers\n",
        "randomarray2D = np.triu(np.random.rand(numbits), 1)\n",
        "flippedcouplerindex = np.array(randomarray2D < crossoverprob).astype(int)\n",
        "jrxbits = np.bitwise_xor(jtxbits, flippedcouplerindex)\n",
        "# jrxbits now contains the received set of couplers in {0,1}, with 1 being ferromagnetic\n",
        "\n",
        "# decode the received word without any error correction            \n",
        "rxword = rxbits.reshape((-1,bitsperchar))\n",
        "rxword = rxword.dot(1 << np.arange(rxword.shape[-1] - 1, -1, -1))\n",
        "\n",
        "corruptedword = ''.join([str(chr(i)) for i in rxword])\n",
        "print(\"\\nCorrupted message received:\", corruptedword)\n",
        "# corruptedword is what would be received if there were no error correction            \n",
        "\n"
      ],
      "execution_count": null,
      "outputs": []
    },
    {
      "cell_type": "markdown",
      "metadata": {
        "id": "rB0HyyLmtNb3",
        "colab_type": "text"
      },
      "source": [
        "## Sample The D-Wave 2000Q"
      ]
    },
    {
      "cell_type": "code",
      "metadata": {
        "id": "rHsWzq80stIK",
        "colab_type": "code",
        "colab": {}
      },
      "source": [
        "# now let's do the error correction!\n",
        "hshift = np.zeros(2048)\n",
        "jshift = np.zeros((2048,2048))\n",
        "rxcharbits = rxbits.reshape((-1, 8))\n",
        "for charindex in range(wordlength):\n",
        "    \n",
        "    # loop through each character in turn\n",
        "    lowestbitindex = charindex*bitsperchar\n",
        "    highestbitindex = (charindex+1)*bitsperchar-1\n",
        "    \n",
        "    rxchar = rxcharbits[charindex]\n",
        "    \n",
        "    # first map the received corrupted information bits onto the local fields for each qubit\n",
        "    h = -1 + 2*rxchar\n",
        "    # h contains the local fields for each character in {-1,1}\n",
        "\n",
        "    lowestshiftedindex = goodcellindices[charindex]\n",
        "    highestshiftedindex = lowestshiftedindex+bitsperchar-1\n",
        "    \n",
        "    hshift[lowestshiftedindex:highestshiftedindex+1] = h\n",
        "    # hshift contains the local fields for the whole word in {-1,1}\n",
        "\n",
        "    # now map the received corrupted coupler bits onto the couplers for each qubit\n",
        "    j = np.multiply(connectivity,(1-2*jrxbits[lowestbitindex:highestbitindex+1,lowestbitindex:highestbitindex+1]))    \n",
        "    # j contains the received set of couplers for the current character in {-1,1} where -1 is ferro and 1 is antiferro unused couplers are set to 0\n",
        "\n",
        "    # now shift the couplers by a number of bits in the Chimera graph:\n",
        "    jshift[lowestshiftedindex:highestshiftedindex+1,lowestshiftedindex:highestshiftedindex+1] = j[0:bitsperchar,0:bitsperchar]\n",
        "\n",
        "# now find the ground-state spin configuration corresponding to the received corrupted set of local fields (h) and couplers (j)\n",
        "h = dict(enumerate(hshift.flatten(), 0))\n",
        "h = {x:y for x,y in h.items() if y!=0}\n",
        "\n",
        "J = {(row,col): jshift[row,col] for row in range(2048) for col in range(2048)}\n",
        "J = {x:y for x,y in J.items() if y!=0}\n",
        "\n",
        "answer = solver.sample_ising(h, J, num_reads=100)\n",
        "print(\"\\nD-Wave System Response:\\n\",answer)\n",
        "\n",
        "spins = answer.record.sample[0]"
      ],
      "execution_count": null,
      "outputs": []
    },
    {
      "cell_type": "markdown",
      "metadata": {
        "id": "0nnY5VBIteAY",
        "colab_type": "text"
      },
      "source": [
        "## Decoding The Message"
      ]
    },
    {
      "cell_type": "code",
      "metadata": {
        "id": "mPQ97w6MstWc",
        "colab_type": "code",
        "colab": {}
      },
      "source": [
        "# now read off each character in turn from the ground state spin configuration\n",
        "decodedword = []\n",
        "for charindex in range(wordlength):\n",
        "      \n",
        "    lowestshiftedindex = charindex*bitsperchar\n",
        "    highestshiftedindex = lowestshiftedindex+bitsperchar-1\n",
        "        \n",
        "    decodedbits = (0.5 - 0.5*spins[lowestshiftedindex:highestshiftedindex+1]).astype(int)\n",
        "    # this now contains the decoded bit string in (0,1)\n",
        "\n",
        "    # finally decode the received binary into ascii\n",
        "    decodedbits = decodedbits.reshape((-1,bitsperchar))\n",
        "    decodedint = np.packbits(decodedbits)\n",
        "    decodedword.append(chr(decodedint))\n",
        "\n",
        "decodedword = ''.join([str(i) for i in decodedword])\n",
        "print(\"\\nDecoded word:\", decodedword)\n",
        "\n",
        "transmiterrors = sum([corruptedword[i]!=wordstring[i] for i in range(wordlength)])\n",
        "print(\"\\nErrors in transmission:\", transmiterrors)\n",
        "\n",
        "errors = sum([decodedword[i]!=wordstring[i] for i in range(wordlength)])\n",
        "print(\"\\nErrors in decoding:\", errors)"
      ],
      "execution_count": null,
      "outputs": []
    }
  ]
}
